{
 "cells": [
  {
   "cell_type": "markdown",
   "metadata": {},
   "source": [
    "# The Capital Problem\n",
    "Notebook to show the the consequences of not properly understanding the lifetime dynamics of the capital requirements of derivatives."
   ]
  },
  {
   "cell_type": "code",
   "execution_count": 126,
   "metadata": {},
   "outputs": [],
   "source": [
    "import numpy as np\n",
    "\n",
    "class IR_Swap:\n",
    "    def __init__(self, notional, start_year, end_year, fixed_rate, direction):\n",
    "        self.notional = notional \n",
    "        self.start = start_year\n",
    "        self.end = end_year\n",
    "        self.fixed = fixed_rate\n",
    "        self.direction = direction\n",
    "    def pv(self, curve, date = 0):\n",
    "        cf = self.cashflows(curve, date)\n",
    "        pv = 0\n",
    "        year = 1\n",
    "        for flow in cf:\n",
    "            pv += curve.df(year)*cf[year-1]\n",
    "            year += 1\n",
    "        pv = pv / curve.df(date)\n",
    "        return pv\n",
    "    def cashflows(self, curve, date = 0):\n",
    "        cf = []\n",
    "        if self.direction == \"p\":\n",
    "            direction = -1\n",
    "        elif self.direction == \"r\":\n",
    "            direction = 1\n",
    "        else:\n",
    "            direction = None\n",
    "        for year in range(1, self.end + 1):\n",
    "            if year <= self.start or year <= date:\n",
    "                cf.append(0)\n",
    "            else:\n",
    "                float = curve.forward(year)\n",
    "                fixed = self.fixed\n",
    "                notl = self.notional\n",
    "                cf.append(direction * (fixed - float) * notl)\n",
    "        return cf\n",
    "            \n",
    "        \n",
    "class IR_Curve:\n",
    "    def __init__(self, rates):\n",
    "        self.rates = rates\n",
    "    def curve_all(self):\n",
    "        df = []\n",
    "        lib = []\n",
    "        df.append(1)\n",
    "        lib.append(np.nan)\n",
    "        for rate in self.rates:\n",
    "            disc_fac = (1 - rate * (sum(df)-1)) / (1 + rate)\n",
    "            df.append(disc_fac)\n",
    "            libor = (df[-2] / df[-1]) - 1\n",
    "            lib.append(libor)\n",
    "        return [df, lib]\n",
    "    def df(self, year):\n",
    "        return self.curve_all()[0][year] \n",
    "    def forward(self, year):\n",
    "        return self.curve_all()[1][year]\n",
    "    \n",
    "        \n"
   ]
  },
  {
   "cell_type": "code",
   "execution_count": 127,
   "metadata": {},
   "outputs": [
    {
     "data": {
      "text/plain": [
       "5227264.524759646"
      ]
     },
     "execution_count": 127,
     "metadata": {},
     "output_type": "execute_result"
    }
   ],
   "source": [
    "swap = IR_Swap(100000000, 0, 10, 0.028, \"p\")\n",
    "curve = IR_Curve([0.01,0.012,0.014,0.016,0.018,0.020,0.022,0.024,0.026,0.028])\n",
    "#print(curve.curve_all())\n",
    "swap.cashflows(curve)\n",
    "swap.pv(curve, 5)"
   ]
  },
  {
   "cell_type": "code",
   "execution_count": null,
   "metadata": {},
   "outputs": [],
   "source": []
  }
 ],
 "metadata": {
  "kernelspec": {
   "display_name": "Python 3",
   "language": "python",
   "name": "python3"
  },
  "language_info": {
   "codemirror_mode": {
    "name": "ipython",
    "version": 3
   },
   "file_extension": ".py",
   "mimetype": "text/x-python",
   "name": "python",
   "nbconvert_exporter": "python",
   "pygments_lexer": "ipython3",
   "version": "3.7.3"
  }
 },
 "nbformat": 4,
 "nbformat_minor": 2
}
